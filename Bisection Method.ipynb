{
  "nbformat": 4,
  "nbformat_minor": 0,
  "metadata": {
    "colab": {
      "provenance": [],
      "collapsed_sections": [],
      "include_colab_link": true
    },
    "kernelspec": {
      "name": "python3",
      "display_name": "Python 3"
    },
    "language_info": {
      "name": "python"
    }
  },
  "cells": [
    {
      "cell_type": "markdown",
      "metadata": {
        "id": "view-in-github",
        "colab_type": "text"
      },
      "source": [
        "<a href=\"https://colab.research.google.com/github/ramansarwar/Bisection-Method/blob/main/Bisection%20Method.ipynb\" target=\"_parent\"><img src=\"https://colab.research.google.com/assets/colab-badge.svg\" alt=\"Open In Colab\"/></a>"
      ]
    },
    {
      "cell_type": "code",
      "execution_count": null,
      "metadata": {
        "id": "MFklNx9Z-ZPU"
      },
      "outputs": [],
      "source": [
        "   def fp_method (func, a, b, error_accept):\n",
        "        def f(x):\n",
        "              f = eval(func)\n",
        "              return f\n",
        "              i = 0\n",
        "              c_before =0\n",
        "              с = (a * f(b) - b* f(a)) / (f(b) - (f(a))) \n",
        "              error = abs(c - c_before)\n",
        "\n",
        "              while error > error_accept:\n",
        "                 c_after = (a * f(b) - b* f(a)) / (f(b) - f(a))\n",
        "\n",
        "              if f(a) * f(b) >= 0:\n",
        "                   print(\"No root or multiple roots present, therefore the F2\")\n",
        "                   quit()\n",
        "              elif   f(c_after) * f(a) < 0:\n",
        "               error =  abs (c_after - b)\n",
        "               b = c_after\n",
        "               i = i + 1\n",
        "              elif f(c_after) * f(b) <0:\n",
        "                    error = abs(c_after - a)\n",
        "                    a = c_after\n",
        "                    i = i + 1      \n",
        "         \n",
        "              else:    \n",
        "               print(\"Something else went wrong\")\n",
        "               quit()\n",
        "                           \n",
        "                           \n",
        "              \n",
        "              \n",
        "              print(f\"The error remaining is {error}, after {i} iterations\")\n",
        "              print(f\"The root can be approximately found at {c_after}\")\n",
        "              print(f\"The lower root boundary, a, is {a} and the upper root boundary, b, is {b}\")\n",
        "                \n",
        "              fp_method(\"(4*x ** 2) + 3*x - 3 \" ,0, 1,0.05 )"
      ]
    }
  ]
}